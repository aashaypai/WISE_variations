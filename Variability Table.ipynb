{
 "cells": [
  {
   "cell_type": "code",
   "execution_count": 1,
   "id": "c773cc79",
   "metadata": {},
   "outputs": [],
   "source": [
    "from midir import w1w2_condition\n",
    "from tqdm import tqdm\n",
    "\n",
    "import os\n",
    "import numpy as np\n",
    "from collections import OrderedDict as od\n",
    "import scipy\n",
    "import pandas as pd\n",
    "import matplotlib.pyplot as plt\n",
    "import matplotlib.dates as mdates\n",
    "import matplotlib.ticker as tkr\n",
    "from matplotlib.cm import ScalarMappable\n",
    "from matplotlib.lines import Line2D\n",
    "import csv\n",
    "from matplotlib import path\n",
    "\n",
    "try:\n",
    "    from astropy.convolution import Gaussian2DKernel, convolve\n",
    "    astro_smooth = True\n",
    "except ImportError as IE:\n",
    "    astro_smooth = False\n",
    "\n",
    "from astropy.io import fits\n",
    "\n",
    "from astropy.coordinates import match_coordinates_sky as coords\n",
    "from astropy.coordinates import SkyCoord  # High-level coordinates\n",
    "from astropy.coordinates import ICRS, Galactic, FK4, FK5  # Low-level frames\n",
    "from astropy.coordinates import Angle, Latitude, Longitude  # Angles\n",
    "\n",
    "#from astropy.units import cds\n",
    "#cds.enable()\n",
    "\n",
    "from astropy.cosmology import LambdaCDM, FlatLambdaCDM\n",
    "\n",
    "from astropy.io import ascii\n",
    "from astropy.io.ascii import masked\n",
    "from astropy.table import Table\n",
    "\n",
    "from scipy.interpolate import interp1d\n",
    "from scipy.stats import gaussian_kde\n",
    "from numpy import polyfit\n",
    "from astropy.time import Time\n",
    "\n",
    "#import uncertainties as unc  \n",
    "#import uncertainties.unumpy as unp\n",
    "import time\n",
    "\n",
    "import kcorrect.response\n",
    "\n",
    "plt.rcParams[\"font.family\"] = \"Times New Roman\"\n",
    "plt.rcParams.update({'font.size': 22})\n",
    "\n",
    "SAVE_FILEPATH = os.path.join(os.path.curdir, 'WISE variations/Final Plots 2.2.0/')\n",
    "IMPORT_FILEPATH = os.path.join(os.path.curdir, 'WISE variations/')"
   ]
  },
  {
   "cell_type": "code",
   "execution_count": 2,
   "id": "7653a8d2",
   "metadata": {},
   "outputs": [],
   "source": [
    "manga_file = fits.open(IMPORT_FILEPATH + \"mnsa-0.3.0.fits\")\n",
    "manga_hdu = manga_file[1]\n",
    "manga_data = manga_hdu.data\n",
    "\n",
    "pipe3d_file = fits.open(IMPORT_FILEPATH + 'SDSS17Pipe3D_v3_1_1.fits')\n",
    "pipe3d_hdu = pipe3d_file[1]\n",
    "pipe3d_data = pipe3d_hdu.data\n",
    "\n",
    "wise_file = fits.open(IMPORT_FILEPATH + \"manga-wise-variable-0.3.0.fits\")\n",
    "wise_hdu = wise_file[1]\n",
    "whdu = wise_hdu.data\n",
    "\n",
    "jiyan_file = fits.open(IMPORT_FILEPATH + \"jiyan-agn-0.3.2.fits\")\n",
    "jiyan_hdu = jiyan_file[1]\n",
    "jhdu = jiyan_hdu.data\n",
    "\n",
    "summary = manga_file[1].data\n",
    "sps2 = manga_file[2].data\n",
    "\n",
    "has_pipe3d = summary['ipipe3d '] != -1\n",
    "\n",
    "sps2_matched = sps2[has_pipe3d]\n",
    "summary_matched = summary[has_pipe3d]\n",
    "wise_matched = whdu[has_pipe3d]\n",
    "\n",
    "pipe3d_matched = pipe3d_data[summary_matched['ipipe3d ']]"
   ]
  },
  {
   "cell_type": "code",
   "execution_count": 3,
   "id": "d3474953",
   "metadata": {},
   "outputs": [
    {
     "name": "stderr",
     "output_type": "stream",
     "text": [
      "C:\\Users\\paiaa\\AppData\\Local\\Temp\\ipykernel_20136\\1597797605.py:7: RuntimeWarning: divide by zero encountered in log10\n",
      "  w1_app = -2.5 * np.log10(w1)\n",
      "C:\\Users\\paiaa\\AppData\\Local\\Temp\\ipykernel_20136\\1597797605.py:8: RuntimeWarning: divide by zero encountered in log10\n",
      "  w2_app = -2.5 * np.log10(w2)\n",
      "C:\\Users\\paiaa\\AppData\\Local\\Temp\\ipykernel_20136\\1597797605.py:8: RuntimeWarning: invalid value encountered in log10\n",
      "  w2_app = -2.5 * np.log10(w2)\n",
      "C:\\Users\\paiaa\\AppData\\Local\\Temp\\ipykernel_20136\\1597797605.py:9: RuntimeWarning: invalid value encountered in subtract\n",
      "  w12 = w1_app-w2_app\n"
     ]
    }
   ],
   "source": [
    "x1 = wise_matched['expected_W2_var_all_mags']\n",
    "y1 = wise_matched['observed_W2_var']\n",
    "plateifu = wise_matched['plateifu']\n",
    "\n",
    "w1 =  sps2_matched['maggies'][:, 5]\n",
    "w2 =  sps2_matched['maggies'][:, 6]\n",
    "w1_app = -2.5 * np.log10(w1)\n",
    "w2_app = -2.5 * np.log10(w2)\n",
    "w12 = w1_app-w2_app\n",
    "\n",
    "mask = (wise_matched['epoch_flag'] == 0)\n",
    "plateifu, x1, y1, w1_app, w2_app = plateifu[mask], x1[mask], y1[mask], w1_app[mask], w2_app[mask]\n",
    "mask2 = (plateifu != '8239-3701')\n",
    "plateifu, x1, y1, w1_app, w2_app = plateifu[mask2], x1[mask2], y1[mask2], w1_app[mask2], w2_app[mask2]\n",
    "\n",
    "#mask = ((x1!=-9999.) & (y1!=-9999.)) #(np.isfinite(w1_app) & np.isfinite(w2_app) &\n",
    "\n",
    "#x1, y1, plateifu, w1_app, w2_app = x1[mask], y1[mask], plateifu[mask], w1_app[mask], w2_app[mask]"
   ]
  },
  {
   "cell_type": "code",
   "execution_count": null,
   "id": "c1dcba93",
   "metadata": {},
   "outputs": [],
   "source": []
  },
  {
   "cell_type": "code",
   "execution_count": 4,
   "id": "eaf1f074",
   "metadata": {},
   "outputs": [],
   "source": [
    "#variable = ((np.log10(y1)>-2.5) & (np.log10(y1)>0.92*np.log10(x1)+0.43) & (np.log10(x1)<-2))\n",
    "#variable = ((np.log10(x1)<-2.5) & (np.log10(y1)>-2.3) & (np.log10(y1)>=2.25*np.log10(x1)+4.09) & (np.log10(y1)>=0.6*np.log10(x1)-0.38))\n",
    "variable = ((np.log10(x1)<-2.5) & (np.log10(y1)>-2.3) & (np.log10(y1)>np.log10(x1)+0.7))\n",
    "\n",
    "pifuv, w1v, w2v = plateifu[variable], w1_app[variable], w2_app[variable]\n",
    "\n",
    "pifu, imanga, ipifuv = np.intersect1d(summary_matched['plateifu'], pifuv, return_indices=True)\n",
    "pifu, ipifu, ipifuv = np.intersect1d(wise_matched['plateifu'], pifuv, return_indices=True)"
   ]
  },
  {
   "cell_type": "code",
   "execution_count": 5,
   "id": "61da8110",
   "metadata": {},
   "outputs": [
    {
     "data": {
      "text/plain": [
       "(170,)"
      ]
     },
     "execution_count": 5,
     "metadata": {},
     "output_type": "execute_result"
    }
   ],
   "source": [
    "pifuv.shape"
   ]
  },
  {
   "cell_type": "code",
   "execution_count": 5,
   "id": "73beb2e5",
   "metadata": {},
   "outputs": [],
   "source": [
    "wise_variable = wise_matched[ipifu]\n",
    "summary_variable = summary_matched[imanga]\n",
    "sps2_variable = sps2_matched[imanga]"
   ]
  },
  {
   "cell_type": "code",
   "execution_count": 10,
   "id": "77238612",
   "metadata": {},
   "outputs": [],
   "source": [
    "catalog = Table()\n",
    "catalog['Plateifu'] = wise_variable['plateifu']\n",
    "catalog['RA'] = np.around(summary_variable['objra'], 4)\n",
    "catalog['Dec'] = np.around(summary_variable['objdec'], 4)\n",
    "catalog['W1'] =  np.around(w1v, 2)\n",
    "catalog['W2'] = np.around(w2v, 2)\n",
    "catalog[r'$\\log_{10}\\varsigma^2$'] = np.around(np.log10(wise_variable['expected_W2_var_all_mags']), 3)\n",
    "catalog[r'$\\text{Var}(W2)$'] = np.around(np.log10(wise_variable['observed_W2_var']), 3)\n",
    "catalog.sort(['RA'])\n",
    "#catalog.write(SAVE_FILEPATH+ 'variability_catalog.tex', format='latex', latexdict=ascii.latex.latexdicts['AA'], overwrite=True)\n"
   ]
  },
  {
   "cell_type": "code",
   "execution_count": 7,
   "id": "e2bce41b",
   "metadata": {},
   "outputs": [],
   "source": [
    "catalog[:45].write(SAVE_FILEPATH+'var_cat1.tex', format='latex', latexdict=ascii.latex.latexdicts['AA'], overwrite=True)\n",
    "catalog[45:90].write(SAVE_FILEPATH+'var_cat2.tex', format='latex', latexdict=ascii.latex.latexdicts['AA'], overwrite=True)\n",
    "catalog[90:135].write(SAVE_FILEPATH+'var_cat3.tex', format='latex', latexdict=ascii.latex.latexdicts['AA'], overwrite=True)\n",
    "catalog[135:].write(SAVE_FILEPATH+'var_cat4.tex', format='latex', latexdict=ascii.latex.latexdicts['AA'], overwrite=True)\n",
    "#catalog[180:].write(SAVE_FILEPATH+'var_cat5.tex', format='latex', latexdict=ascii.latex.latexdicts['AA'], overwrite=True)\n",
    "#catalog[125:170].write(SAVE_FILEPATH+'var_cat6.tex', format='latex', latexdict=ascii.latex.latexdicts['AA'], overwrite=True)\n",
    "#catalog[170:].write(SAVE_FILEPATH+'var_cat7.tex', format='latex', latexdict=ascii.latex.latexdicts['AA'], overwrite=True)"
   ]
  },
  {
   "cell_type": "code",
   "execution_count": 8,
   "id": "4a8bee78",
   "metadata": {},
   "outputs": [],
   "source": [
    "catalog.sort([r'$\\text{Var}(W2)$'], reverse=True)\n",
    "catalog.write(SAVE_FILEPATH+ 'variability_catalog', format='ascii', overwrite=True)\n"
   ]
  },
  {
   "cell_type": "code",
   "execution_count": 9,
   "id": "7a5c23c0",
   "metadata": {},
   "outputs": [
    {
     "data": {
      "text/html": [
       "<div><i>Table length=170</i>\n",
       "<table id=\"table2038064753296\" class=\"table-striped table-bordered table-condensed\">\n",
       "<thead><tr><th>Plateifu</th><th>RA</th><th>Dec</th><th>W1</th><th>W2</th><th>$\\log_{10}\\varsigma^2$</th><th>$\\text{Var}(W2)$</th></tr></thead>\n",
       "<thead><tr><th>str12</th><th>float64</th><th>float64</th><th>float32</th><th>float32</th><th>float64</th><th>float64</th></tr></thead>\n",
       "<tr><td>9870-1902</td><td>233.1651</td><td>44.5342</td><td>17.09</td><td>17.53</td><td>-3.062</td><td>-0.3</td></tr>\n",
       "<tr><td>8145-6102</td><td>116.5535</td><td>26.923</td><td>15.58</td><td>16.05</td><td>-2.585</td><td>-0.823</td></tr>\n",
       "<tr><td>8710-6102</td><td>117.9662</td><td>49.8143</td><td>13.91</td><td>14.27</td><td>-3.913</td><td>-0.84</td></tr>\n",
       "<tr><td>10223-3701</td><td>31.5666</td><td>-0.2914</td><td>13.08</td><td>13.25</td><td>-3.854</td><td>-0.845</td></tr>\n",
       "<tr><td>11011-1902</td><td>218.7186</td><td>48.6619</td><td>15.42</td><td>15.63</td><td>-4.131</td><td>-0.897</td></tr>\n",
       "<tr><td>9000-1901</td><td>171.4007</td><td>54.3826</td><td>13.79</td><td>13.75</td><td>-4.575</td><td>-0.898</td></tr>\n",
       "<tr><td>8341-12704</td><td>189.2133</td><td>45.6512</td><td>17.85</td><td>18.23</td><td>-3.781</td><td>-0.997</td></tr>\n",
       "<tr><td>8561-3704</td><td>241.3254</td><td>52.1202</td><td>16.93</td><td>17.32</td><td>-3.656</td><td>-1.084</td></tr>\n",
       "<tr><td>8940-12702</td><td>120.0874</td><td>26.6135</td><td>12.66</td><td>12.66</td><td>-4.137</td><td>-1.085</td></tr>\n",
       "<tr><td>7977-9101</td><td>331.1229</td><td>12.4426</td><td>13.81</td><td>14.2</td><td>-4.101</td><td>-1.097</td></tr>\n",
       "<tr><td>...</td><td>...</td><td>...</td><td>...</td><td>...</td><td>...</td><td>...</td></tr>\n",
       "<tr><td>11979-6104</td><td>253.048</td><td>22.7565</td><td>14.56</td><td>15.17</td><td>-3.492</td><td>-2.229</td></tr>\n",
       "<tr><td>9885-3703</td><td>241.1527</td><td>23.6632</td><td>14.24</td><td>14.79</td><td>-3.873</td><td>-2.242</td></tr>\n",
       "<tr><td>9027-12701</td><td>243.9359</td><td>31.964</td><td>13.63</td><td>14.11</td><td>-3.652</td><td>-2.257</td></tr>\n",
       "<tr><td>9182-12703</td><td>118.7745</td><td>40.0413</td><td>15.46</td><td>15.83</td><td>-3.412</td><td>-2.26</td></tr>\n",
       "<tr><td>9508-12704</td><td>127.106</td><td>26.3974</td><td>15.71</td><td>16.05</td><td>-3.45</td><td>-2.267</td></tr>\n",
       "<tr><td>8726-12701</td><td>115.717</td><td>22.1127</td><td>14.61</td><td>15.15</td><td>-3.137</td><td>-2.269</td></tr>\n",
       "<tr><td>8947-3701</td><td>168.9478</td><td>50.4016</td><td>15.51</td><td>15.21</td><td>-4.043</td><td>-2.269</td></tr>\n",
       "<tr><td>8562-6102</td><td>244.1027</td><td>51.9498</td><td>14.25</td><td>14.75</td><td>-4.033</td><td>-2.27</td></tr>\n",
       "<tr><td>7981-3703</td><td>339.2821</td><td>14.232</td><td>13.83</td><td>14.14</td><td>-3.213</td><td>-2.276</td></tr>\n",
       "<tr><td>10218-12703</td><td>118.6342</td><td>16.8097</td><td>13.38</td><td>13.76</td><td>-3.59</td><td>-2.283</td></tr>\n",
       "</table></div>"
      ],
      "text/plain": [
       "<Table length=170>\n",
       "  Plateifu     RA      Dec   ...    W2   $\\log_{10}\\varsigma^2$ $\\text{Var}(W2)$\n",
       "   str12    float64  float64 ... float32        float64             float64     \n",
       "----------- -------- ------- ... ------- ---------------------- ----------------\n",
       "  9870-1902 233.1651 44.5342 ...   17.53                 -3.062             -0.3\n",
       "  8145-6102 116.5535  26.923 ...   16.05                 -2.585           -0.823\n",
       "  8710-6102 117.9662 49.8143 ...   14.27                 -3.913            -0.84\n",
       " 10223-3701  31.5666 -0.2914 ...   13.25                 -3.854           -0.845\n",
       " 11011-1902 218.7186 48.6619 ...   15.63                 -4.131           -0.897\n",
       "  9000-1901 171.4007 54.3826 ...   13.75                 -4.575           -0.898\n",
       " 8341-12704 189.2133 45.6512 ...   18.23                 -3.781           -0.997\n",
       "  8561-3704 241.3254 52.1202 ...   17.32                 -3.656           -1.084\n",
       " 8940-12702 120.0874 26.6135 ...   12.66                 -4.137           -1.085\n",
       "  7977-9101 331.1229 12.4426 ...    14.2                 -4.101           -1.097\n",
       "        ...      ...     ... ...     ...                    ...              ...\n",
       " 11979-6104  253.048 22.7565 ...   15.17                 -3.492           -2.229\n",
       "  9885-3703 241.1527 23.6632 ...   14.79                 -3.873           -2.242\n",
       " 9027-12701 243.9359  31.964 ...   14.11                 -3.652           -2.257\n",
       " 9182-12703 118.7745 40.0413 ...   15.83                 -3.412            -2.26\n",
       " 9508-12704  127.106 26.3974 ...   16.05                  -3.45           -2.267\n",
       " 8726-12701  115.717 22.1127 ...   15.15                 -3.137           -2.269\n",
       "  8947-3701 168.9478 50.4016 ...   15.21                 -4.043           -2.269\n",
       "  8562-6102 244.1027 51.9498 ...   14.75                 -4.033            -2.27\n",
       "  7981-3703 339.2821  14.232 ...   14.14                 -3.213           -2.276\n",
       "10218-12703 118.6342 16.8097 ...   13.76                  -3.59           -2.283"
      ]
     },
     "execution_count": 9,
     "metadata": {},
     "output_type": "execute_result"
    }
   ],
   "source": [
    "catalog"
   ]
  },
  {
   "cell_type": "code",
   "execution_count": 26,
   "id": "4866ad26",
   "metadata": {},
   "outputs": [],
   "source": [
    "p = np.array([])\n",
    "for pifu in catalog['Plateifu']:\n",
    "    p = np.append(p, 'M'+ pifu.split('-')[0]+pifu.split('-')[1])"
   ]
  },
  {
   "cell_type": "code",
   "execution_count": null,
   "id": "6db6e33b",
   "metadata": {},
   "outputs": [],
   "source": []
  },
  {
   "cell_type": "code",
   "execution_count": 31,
   "id": "c18e17f0",
   "metadata": {},
   "outputs": [],
   "source": [
    "var_table = Table()\n",
    "var_table['ID'] = catalog['Plateifu']\n",
    "var_table['RA'] = catalog['RA']\n",
    "var_table['Dec'] = catalog['Dec']"
   ]
  },
  {
   "cell_type": "code",
   "execution_count": 33,
   "id": "54f8fc8e",
   "metadata": {},
   "outputs": [],
   "source": [
    "var_table[:100].write(SAVE_FILEPATH+ 'midir_var_objs_1.txt', format='ascii', overwrite=True)\n",
    "var_table[100:].write(SAVE_FILEPATH+ 'midir_var_objs_2.txt', format='ascii', overwrite=True)"
   ]
  },
  {
   "cell_type": "code",
   "execution_count": null,
   "id": "6458ffad",
   "metadata": {},
   "outputs": [],
   "source": []
  }
 ],
 "metadata": {
  "kernelspec": {
   "display_name": "Python 3 (ipykernel)",
   "language": "python",
   "name": "python3"
  },
  "language_info": {
   "codemirror_mode": {
    "name": "ipython",
    "version": 3
   },
   "file_extension": ".py",
   "mimetype": "text/x-python",
   "name": "python",
   "nbconvert_exporter": "python",
   "pygments_lexer": "ipython3",
   "version": "3.11.5"
  }
 },
 "nbformat": 4,
 "nbformat_minor": 5
}
